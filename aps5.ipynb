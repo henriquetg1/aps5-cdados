{
 "cells": [
  {
   "cell_type": "markdown",
   "metadata": {},
   "source": [
    "APS 5 - CIÊNCIA DE DADOS\n",
    "\n",
    "Henrique Scofield Sotto Mayor e Henrique Turco Gera"
   ]
  },
  {
   "cell_type": "code",
   "execution_count": 1,
   "metadata": {},
   "outputs": [],
   "source": [
    "import pandas as pd\n",
    "import scipy.stats as stats"
   ]
  },
  {
   "cell_type": "code",
   "execution_count": 2,
   "metadata": {},
   "outputs": [],
   "source": [
    "df = pd.read_csv('dados/brasileirao-2004-2022.csv')"
   ]
  },
  {
   "cell_type": "code",
   "execution_count": 3,
   "metadata": {},
   "outputs": [
    {
     "data": {
      "text/html": [
       "<div>\n",
       "<style scoped>\n",
       "    .dataframe tbody tr th:only-of-type {\n",
       "        vertical-align: middle;\n",
       "    }\n",
       "\n",
       "    .dataframe tbody tr th {\n",
       "        vertical-align: top;\n",
       "    }\n",
       "\n",
       "    .dataframe thead th {\n",
       "        text-align: right;\n",
       "    }\n",
       "</style>\n",
       "<table border=\"1\" class=\"dataframe\">\n",
       "  <thead>\n",
       "    <tr style=\"text-align: right;\">\n",
       "      <th></th>\n",
       "      <th>season</th>\n",
       "      <th>place</th>\n",
       "      <th>team</th>\n",
       "      <th>points</th>\n",
       "      <th>played</th>\n",
       "      <th>won</th>\n",
       "      <th>draw</th>\n",
       "      <th>loss</th>\n",
       "      <th>goals_for</th>\n",
       "      <th>goals_against</th>\n",
       "      <th>goals_diff</th>\n",
       "    </tr>\n",
       "  </thead>\n",
       "  <tbody>\n",
       "    <tr>\n",
       "      <th>0</th>\n",
       "      <td>2003</td>\n",
       "      <td>1</td>\n",
       "      <td>Cruzeiro</td>\n",
       "      <td>100</td>\n",
       "      <td>46</td>\n",
       "      <td>31</td>\n",
       "      <td>7</td>\n",
       "      <td>8</td>\n",
       "      <td>102</td>\n",
       "      <td>47</td>\n",
       "      <td>55</td>\n",
       "    </tr>\n",
       "    <tr>\n",
       "      <th>1</th>\n",
       "      <td>2003</td>\n",
       "      <td>2</td>\n",
       "      <td>Santos</td>\n",
       "      <td>87</td>\n",
       "      <td>46</td>\n",
       "      <td>25</td>\n",
       "      <td>12</td>\n",
       "      <td>9</td>\n",
       "      <td>93</td>\n",
       "      <td>60</td>\n",
       "      <td>33</td>\n",
       "    </tr>\n",
       "    <tr>\n",
       "      <th>2</th>\n",
       "      <td>2003</td>\n",
       "      <td>3</td>\n",
       "      <td>SaoPaulo</td>\n",
       "      <td>78</td>\n",
       "      <td>46</td>\n",
       "      <td>22</td>\n",
       "      <td>12</td>\n",
       "      <td>12</td>\n",
       "      <td>81</td>\n",
       "      <td>67</td>\n",
       "      <td>14</td>\n",
       "    </tr>\n",
       "    <tr>\n",
       "      <th>3</th>\n",
       "      <td>2003</td>\n",
       "      <td>4</td>\n",
       "      <td>SaoCaetano</td>\n",
       "      <td>74</td>\n",
       "      <td>46</td>\n",
       "      <td>19</td>\n",
       "      <td>14</td>\n",
       "      <td>13</td>\n",
       "      <td>53</td>\n",
       "      <td>37</td>\n",
       "      <td>16</td>\n",
       "    </tr>\n",
       "    <tr>\n",
       "      <th>4</th>\n",
       "      <td>2003</td>\n",
       "      <td>5</td>\n",
       "      <td>Coritiba</td>\n",
       "      <td>73</td>\n",
       "      <td>46</td>\n",
       "      <td>21</td>\n",
       "      <td>10</td>\n",
       "      <td>15</td>\n",
       "      <td>67</td>\n",
       "      <td>58</td>\n",
       "      <td>9</td>\n",
       "    </tr>\n",
       "  </tbody>\n",
       "</table>\n",
       "</div>"
      ],
      "text/plain": [
       "   season   place         team   points   played   won   draw   loss  \\\n",
       "0    2003       1     Cruzeiro      100       46    31      7      8   \n",
       "1    2003       2       Santos       87       46    25     12      9   \n",
       "2    2003       3     SaoPaulo       78       46    22     12     12   \n",
       "3    2003       4   SaoCaetano       74       46    19     14     13   \n",
       "4    2003       5     Coritiba       73       46    21     10     15   \n",
       "\n",
       "    goals_for   goals_against   goals_diff  \n",
       "0         102              47           55  \n",
       "1          93              60           33  \n",
       "2          81              67           14  \n",
       "3          53              37           16  \n",
       "4          67              58            9  "
      ]
     },
     "execution_count": 3,
     "metadata": {},
     "output_type": "execute_result"
    }
   ],
   "source": [
    "df.head()"
   ]
  }
 ],
 "metadata": {
  "kernelspec": {
   "display_name": "Python 3",
   "language": "python",
   "name": "python3"
  },
  "language_info": {
   "codemirror_mode": {
    "name": "ipython",
    "version": 3
   },
   "file_extension": ".py",
   "mimetype": "text/x-python",
   "name": "python",
   "nbconvert_exporter": "python",
   "pygments_lexer": "ipython3",
   "version": "3.10.9"
  }
 },
 "nbformat": 4,
 "nbformat_minor": 2
}
